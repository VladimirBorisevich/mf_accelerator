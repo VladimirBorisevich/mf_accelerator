{
 "cells": [
  {
   "cell_type": "markdown",
   "metadata": {},
   "source": [
    "# MegaFon Accelerator"
   ]
  },
  {
   "cell_type": "markdown",
   "metadata": {},
   "source": [
    "## 1. Introduction"
   ]
  },
  {
   "cell_type": "markdown",
   "metadata": {},
   "source": [
    "### 1.1 Task \n",
    "Build a model that predicts which of the three segments (0,1,2) each person belongs to."
   ]
  },
  {
   "cell_type": "markdown",
   "metadata": {},
   "source": [
    "The contest_train.csv training sample consists of the following columns:  \n",
    "\n",
    "    * ID - person's id\n",
    "    * TARGET - segment corresponding to the person.\n",
    "    * FEATURE_0…FEATURE_259 — person's characteristics.\n",
    "   \n",
    "The test sample contest_test.csv consists of an ID column followed by FEATURE_0 ... FEATURE_259.  \n",
    "The prediction accuracy is assessed using the macro-f1_score metric."
   ]
  },
  {
   "cell_type": "markdown",
   "metadata": {},
   "source": [
    "### 1.2 Metric"
   ]
  },
  {
   "cell_type": "markdown",
   "metadata": {},
   "source": [
    "There are plenty of different metrics to evaluate error. F1 macro is suitable when there is a need to get good results for each class."
   ]
  },
  {
   "cell_type": "markdown",
   "metadata": {},
   "source": [
    "The F1 score can be interpreted as a weighted average of the precision and recall, where an F1 score reaches its best value at 1 and worst score at 0. The relative contribution of precision and recall to the F1 score are equal. The formula for the F1 score is:"
   ]
  },
  {
   "cell_type": "markdown",
   "metadata": {},
   "source": [
    "F1 = 2 * (precision * recall) / (precision + recall)"
   ]
  },
  {
   "cell_type": "markdown",
   "metadata": {},
   "source": [
    "In the multi-class and multi-label case, this is the average of the F1 score of each class with weighting depending on the average parameter.  \n",
    "F1 macro is the mean value of f1 score each class.\n"
   ]
  },
  {
   "cell_type": "markdown",
   "metadata": {},
   "source": [
    "### 1.3 Tools \n",
    "The following libraries were used to build the model:\n",
    "* numpy - A python library for working with arrays.\n",
    "* pandas - High-level data representation and manipulation tool.\n",
    "* matplotlib - A library for creating visualizations.\n",
    "* seaborn - A library for making statistical graphics in Python.\n",
    "* scipy -  A python library for scientific and mathematical purposes.\n",
    "* statsmodels - A library for the estimation of many different statistical models.\n",
    "* sklearn - A library to solve machine learning problems.\n",
    "* imblearn - Imbalanced-learn toolbox.\n",
    "* tqdm - progress bar\n",
    "* catboost - CatBoost is a high-performance open source library for gradient boosting on decision trees"
   ]
  },
  {
   "cell_type": "markdown",
   "metadata": {},
   "source": [
    "## 2. Implementation"
   ]
  },
  {
   "cell_type": "markdown",
   "metadata": {},
   "source": [
    "### 2.1 Loading libraries"
   ]
  },
  {
   "cell_type": "code",
   "execution_count": 1,
   "metadata": {},
   "outputs": [],
   "source": [
    "import numpy as np\n",
    "import pandas as pd\n",
    "import matplotlib.pyplot as plt\n",
    "%matplotlib inline\n",
    "import time\n",
    "import seaborn as sns\n",
    "import sklearn\n",
    "from tqdm import tqdm"
   ]
  },
  {
   "cell_type": "code",
   "execution_count": 2,
   "metadata": {},
   "outputs": [],
   "source": [
    "import imblearn\n",
    "from imblearn.over_sampling import SMOTE,RandomOverSampler\n",
    "from imblearn.ensemble import BalancedRandomForestClassifier\n",
    "from imblearn.under_sampling import RandomUnderSampler,NearMiss\n",
    "from sklearn.utils import shuffle"
   ]
  },
  {
   "cell_type": "code",
   "execution_count": 3,
   "metadata": {},
   "outputs": [],
   "source": [
    "import catboost"
   ]
  },
  {
   "cell_type": "code",
   "execution_count": 4,
   "metadata": {},
   "outputs": [],
   "source": [
    "from sklearn.model_selection import GridSearchCV,cross_val_score,train_test_split\n",
    "from sklearn import feature_selection\n",
    "from sklearn.linear_model import LassoCV,SGDClassifier,RidgeClassifier,Lasso,LogisticRegressionCV\n",
    "from sklearn.ensemble import RandomForestClassifier,GradientBoostingClassifier\n",
    "from sklearn.tree import DecisionTreeClassifier\n",
    "from sklearn.manifold import TSNE\n",
    "from sklearn.neighbors import KNeighborsClassifier\n",
    "from sklearn.metrics import f1_score,confusion_matrix\n",
    "from sklearn.preprocessing import StandardScaler,RobustScaler,OneHotEncoder\n",
    "from sklearn.decomposition import PCA"
   ]
  },
  {
   "cell_type": "markdown",
   "metadata": {},
   "source": [
    "### 2.2 Dataset  overview."
   ]
  },
  {
   "cell_type": "markdown",
   "metadata": {},
   "source": [
    "Loading dataset with pandas."
   ]
  },
  {
   "cell_type": "code",
   "execution_count": 5,
   "metadata": {},
   "outputs": [],
   "source": [
    "train = pd.read_csv('../mf-accelerator/contest_train.csv')\n",
    "test = pd.read_csv('../mf-accelerator/contest_test.csv')"
   ]
  },
  {
   "cell_type": "markdown",
   "metadata": {},
   "source": [
    "Let's look at megafon dataset first 3 rows."
   ]
  },
  {
   "cell_type": "code",
   "execution_count": 6,
   "metadata": {},
   "outputs": [
    {
     "data": {
      "text/html": [
       "<div>\n",
       "<style scoped>\n",
       "    .dataframe tbody tr th:only-of-type {\n",
       "        vertical-align: middle;\n",
       "    }\n",
       "\n",
       "    .dataframe tbody tr th {\n",
       "        vertical-align: top;\n",
       "    }\n",
       "\n",
       "    .dataframe thead th {\n",
       "        text-align: right;\n",
       "    }\n",
       "</style>\n",
       "<table border=\"1\" class=\"dataframe\">\n",
       "  <thead>\n",
       "    <tr style=\"text-align: right;\">\n",
       "      <th></th>\n",
       "      <th>ID</th>\n",
       "      <th>TARGET</th>\n",
       "      <th>FEATURE_0</th>\n",
       "      <th>FEATURE_1</th>\n",
       "      <th>FEATURE_2</th>\n",
       "      <th>FEATURE_3</th>\n",
       "      <th>FEATURE_4</th>\n",
       "      <th>FEATURE_5</th>\n",
       "      <th>FEATURE_6</th>\n",
       "      <th>FEATURE_7</th>\n",
       "      <th>...</th>\n",
       "      <th>FEATURE_250</th>\n",
       "      <th>FEATURE_251</th>\n",
       "      <th>FEATURE_252</th>\n",
       "      <th>FEATURE_253</th>\n",
       "      <th>FEATURE_254</th>\n",
       "      <th>FEATURE_255</th>\n",
       "      <th>FEATURE_256</th>\n",
       "      <th>FEATURE_257</th>\n",
       "      <th>FEATURE_258</th>\n",
       "      <th>FEATURE_259</th>\n",
       "    </tr>\n",
       "  </thead>\n",
       "  <tbody>\n",
       "    <tr>\n",
       "      <th>0</th>\n",
       "      <td>0d1c880d23ff018</td>\n",
       "      <td>1</td>\n",
       "      <td>2.0</td>\n",
       "      <td>2.0</td>\n",
       "      <td>0.0</td>\n",
       "      <td>0.0</td>\n",
       "      <td>0.0</td>\n",
       "      <td>0.0</td>\n",
       "      <td>0.0</td>\n",
       "      <td>-114.527812</td>\n",
       "      <td>...</td>\n",
       "      <td>39.0</td>\n",
       "      <td>2.0</td>\n",
       "      <td>223.118594</td>\n",
       "      <td>290.015143</td>\n",
       "      <td>1.0</td>\n",
       "      <td>1.0</td>\n",
       "      <td>0.0</td>\n",
       "      <td>1.0</td>\n",
       "      <td>2.0</td>\n",
       "      <td>2.0</td>\n",
       "    </tr>\n",
       "    <tr>\n",
       "      <th>1</th>\n",
       "      <td>1579ba37fd82c1f</td>\n",
       "      <td>0</td>\n",
       "      <td>1.0</td>\n",
       "      <td>1.0</td>\n",
       "      <td>0.0</td>\n",
       "      <td>0.0</td>\n",
       "      <td>1.0</td>\n",
       "      <td>0.0</td>\n",
       "      <td>0.0</td>\n",
       "      <td>329.828334</td>\n",
       "      <td>...</td>\n",
       "      <td>25.0</td>\n",
       "      <td>82.0</td>\n",
       "      <td>479.616045</td>\n",
       "      <td>611.651594</td>\n",
       "      <td>0.0</td>\n",
       "      <td>1.0</td>\n",
       "      <td>0.0</td>\n",
       "      <td>1.0</td>\n",
       "      <td>1.0</td>\n",
       "      <td>1.0</td>\n",
       "    </tr>\n",
       "    <tr>\n",
       "      <th>2</th>\n",
       "      <td>790086f721c7f5e</td>\n",
       "      <td>1</td>\n",
       "      <td>0.0</td>\n",
       "      <td>0.0</td>\n",
       "      <td>0.0</td>\n",
       "      <td>0.0</td>\n",
       "      <td>0.0</td>\n",
       "      <td>0.0</td>\n",
       "      <td>0.0</td>\n",
       "      <td>17.427338</td>\n",
       "      <td>...</td>\n",
       "      <td>119.0</td>\n",
       "      <td>0.0</td>\n",
       "      <td>352.268014</td>\n",
       "      <td>564.573421</td>\n",
       "      <td>1.0</td>\n",
       "      <td>1.0</td>\n",
       "      <td>0.0</td>\n",
       "      <td>1.0</td>\n",
       "      <td>1.0</td>\n",
       "      <td>1.0</td>\n",
       "    </tr>\n",
       "  </tbody>\n",
       "</table>\n",
       "<p>3 rows × 262 columns</p>\n",
       "</div>"
      ],
      "text/plain": [
       "                ID  TARGET  FEATURE_0  FEATURE_1  FEATURE_2  FEATURE_3  \\\n",
       "0  0d1c880d23ff018       1        2.0        2.0        0.0        0.0   \n",
       "1  1579ba37fd82c1f       0        1.0        1.0        0.0        0.0   \n",
       "2  790086f721c7f5e       1        0.0        0.0        0.0        0.0   \n",
       "\n",
       "   FEATURE_4  FEATURE_5  FEATURE_6   FEATURE_7  ...  FEATURE_250  FEATURE_251  \\\n",
       "0        0.0        0.0        0.0 -114.527812  ...         39.0          2.0   \n",
       "1        1.0        0.0        0.0  329.828334  ...         25.0         82.0   \n",
       "2        0.0        0.0        0.0   17.427338  ...        119.0          0.0   \n",
       "\n",
       "   FEATURE_252  FEATURE_253  FEATURE_254  FEATURE_255  FEATURE_256  \\\n",
       "0   223.118594   290.015143          1.0          1.0          0.0   \n",
       "1   479.616045   611.651594          0.0          1.0          0.0   \n",
       "2   352.268014   564.573421          1.0          1.0          0.0   \n",
       "\n",
       "   FEATURE_257  FEATURE_258  FEATURE_259  \n",
       "0          1.0          2.0          2.0  \n",
       "1          1.0          1.0          1.0  \n",
       "2          1.0          1.0          1.0  \n",
       "\n",
       "[3 rows x 262 columns]"
      ]
     },
     "execution_count": 6,
     "metadata": {},
     "output_type": "execute_result"
    }
   ],
   "source": [
    "train.head(3)"
   ]
  },
  {
   "cell_type": "markdown",
   "metadata": {},
   "source": [
    "Brief train dataset information about columns."
   ]
  },
  {
   "cell_type": "code",
   "execution_count": 7,
   "metadata": {},
   "outputs": [
    {
     "name": "stdout",
     "output_type": "stream",
     "text": [
      "<class 'pandas.core.frame.DataFrame'>\n",
      "RangeIndex: 24521 entries, 0 to 24520\n",
      "Columns: 262 entries, ID to FEATURE_259\n",
      "dtypes: float64(260), int64(1), object(1)\n",
      "memory usage: 49.0+ MB\n"
     ]
    }
   ],
   "source": [
    "train.info()"
   ]
  },
  {
   "cell_type": "markdown",
   "metadata": {},
   "source": [
    "All values are numeric (exept ID). Hard to get information from table without any meta data about columns."
   ]
  },
  {
   "cell_type": "markdown",
   "metadata": {},
   "source": [
    "Amount of missing data in percentage."
   ]
  },
  {
   "cell_type": "code",
   "execution_count": 8,
   "metadata": {},
   "outputs": [
    {
     "data": {
      "text/plain": [
       "FEATURE_189    98.674605\n",
       "FEATURE_194    70.327474\n",
       "FEATURE_190    70.111333\n",
       "FEATURE_191    62.432201\n",
       "FEATURE_192    53.260471\n",
       "FEATURE_193    51.368215\n",
       "FEATURE_187    48.440113\n",
       "FEATURE_73     12.071286\n",
       "FEATURE_71     12.071286\n",
       "FEATURE_195    11.365768\n",
       "FEATURE_72     11.341299\n",
       "FEATURE_153     9.860936\n",
       "FEATURE_149     9.860936\n",
       "FEATURE_150     9.860936\n",
       "FEATURE_151     9.860936\n",
       "FEATURE_152     9.860936\n",
       "FEATURE_8       4.665389\n",
       "FEATURE_188     4.339138\n",
       "FEATURE_162     2.577383\n",
       "FEATURE_196     1.904490\n",
       "dtype: float64"
      ]
     },
     "execution_count": 8,
     "metadata": {},
     "output_type": "execute_result"
    }
   ],
   "source": [
    "(train.isnull().sum()/len(train)*100).sort_values(ascending=False)[:20]"
   ]
  },
  {
   "cell_type": "markdown",
   "metadata": {},
   "source": [
    "### 2.3 Cleaning data"
   ]
  },
  {
   "cell_type": "markdown",
   "metadata": {},
   "source": [
    "Some of nan's could contain valubable information. Adding few new binary features for missing data (if data is missing 1 esle 0) should give extra info."
   ]
  },
  {
   "cell_type": "code",
   "execution_count": 9,
   "metadata": {},
   "outputs": [],
   "source": [
    "na_col = train.isna().sum()>0\n",
    "d = {True:1,False:0}\n",
    "na_columns = list(train.columns[na_col])\n",
    "for i in na_columns:\n",
    "    train[i+'_na'] = train.loc[:,i].isna()\n",
    "    train[i+'_na'] = train[i+'_na'].map(d,i+'_na')\n",
    "    test[i+'_na'] = test.loc[:,i].isna()\n",
    "    test[i+'_na'] = test[i+'_na'].map(d,i+'_na')"
   ]
  },
  {
   "cell_type": "markdown",
   "metadata": {},
   "source": [
    "Most of the machine learning models can't handle with missing data, so cleaning dataset from nan's would be a great idea.  \n",
    "This function drops columns with 40 or more percentage of missing values.  \n",
    "And fills 'NaN' with median in numeric and most frequent in categoric column."
   ]
  },
  {
   "cell_type": "code",
   "execution_count": 10,
   "metadata": {},
   "outputs": [],
   "source": [
    "def cleaning_na(data):\n",
    "    '''\n",
    "    Function for cleaning data\n",
    "    Drops columns with 40 or more percentage of missing values \n",
    "    Fillining 'nan' with median in numeric and most frequent in categoric column\n",
    "    '''\n",
    "    columns_with_na = np.where(data.isna().sum()>0)[0]\n",
    "    columns_to_drop = (data.iloc[:,columns_with_na].isna().sum()/data.shape[0]*100)>40\n",
    "    columns_number = columns_with_na[np.where((data.iloc[:,columns_with_na].dtypes=='float')|(data.iloc[:,columns_with_na].dtypes=='int'))[0]]\n",
    "    columns_cat =  columns_with_na[np.where(data.iloc[:,columns_with_na].dtypes=='object')[0]]\n",
    "    data.iloc[:,columns_number] = data.iloc[:,columns_number].apply(lambda x:x.fillna(x.median()))\n",
    "    for column in columns_cat:\n",
    "        data.iloc[:,column].fillna(data.iloc[:,column].mode()[0],inplace=True)\n",
    "    data.drop(data.columns[columns_with_na[columns_to_drop]],axis=1,inplace=True)\n",
    "    data.drop('ID',axis=1,inplace=True)"
   ]
  },
  {
   "cell_type": "code",
   "execution_count": 11,
   "metadata": {},
   "outputs": [],
   "source": [
    "ID = test.ID\n",
    "cleaning_na(train)\n",
    "cleaning_na(test)\n",
    "X = train.drop(['TARGET'],axis=1)\n",
    "y = train.TARGET"
   ]
  },
  {
   "cell_type": "markdown",
   "metadata": {},
   "source": [
    "### 2.4 Data visualization"
   ]
  },
  {
   "cell_type": "markdown",
   "metadata": {},
   "source": [
    "Distribution of target value. TARGET column has a huge disbalance."
   ]
  },
  {
   "cell_type": "code",
   "execution_count": 12,
   "metadata": {},
   "outputs": [
    {
     "data": {
      "image/png": "[encoded data removed]",
      "text/plain": [
       "<Figure size 864x576 with 1 Axes>"
      ]
     },
     "metadata": {
      "needs_background": "light"
     },
     "output_type": "display_data"
    }
   ],
   "source": [
    "plt.figure(figsize=(12,8))\n",
    "sns.countplot(x=train.TARGET)\n",
    "plt.title('Number of elements of each class');"
   ]
  },
  {
   "cell_type": "markdown",
   "metadata": {},
   "source": [
    "Function to separate constant,binary,categorical and discrete columns."
   ]
  },
  {
   "cell_type": "code",
   "execution_count": 13,
   "metadata": {},
   "outputs": [],
   "source": [
    "def col_separator(data):\n",
    "    const_cols = []\n",
    "    binary_cols = []\n",
    "    cat_cols = []\n",
    "    discrete_cols = []\n",
    "    for i in range(X.shape[1]):\n",
    "        unique_values = X.iloc[:,i].unique()\n",
    "        if len(unique_values) == 1:\n",
    "            const_cols.append(i)\n",
    "        if len(unique_values) == 2:\n",
    "            binary_cols.append(i)\n",
    "        if (len(unique_values) <=50) & (len(unique_values)>2):\n",
    "            cat_cols.append(i)\n",
    "        else:\n",
    "            discrete_cols.append(i)\n",
    "    return const_cols,binary_cols,cat_cols,discrete_cols\n",
    "        "
   ]
  },
  {
   "cell_type": "code",
   "execution_count": 14,
   "metadata": {},
   "outputs": [],
   "source": [
    "const_cols, bin_cols, cat_cols, disc_cols = col_separator(X)"
   ]
  },
  {
   "cell_type": "markdown",
   "metadata": {},
   "source": [
    "Graph distribution interpretation of each type of data."
   ]
  },
  {
   "cell_type": "code",
   "execution_count": 15,
   "metadata": {},
   "outputs": [
    {
     "data": {
      "image/png": "[encoded data removed]",
      "text/plain": [
       "<Figure size 1728x288 with 5 Axes>"
      ]
     },
     "metadata": {
      "needs_background": "light"
     },
     "output_type": "display_data"
    }
   ],
   "source": [
    "bin_to_draw = np.random.choice(list(X.iloc[:,bin_cols].columns),5)\n",
    "plt.figure(figsize=(24,4))\n",
    "for i,feat in enumerate(bin_to_draw):\n",
    "    plt.subplot(1,5,i+1)\n",
    "    sns.kdeplot(train.loc[:,feat],hue=y)\n",
    "    plt.title(f'{feat} distribution');"
   ]
  },
  {
   "cell_type": "code",
   "execution_count": 16,
   "metadata": {},
   "outputs": [
    {
     "data": {
      "image/png": "[encoded data removed]",
      "text/plain": [
       "<Figure size 1728x288 with 5 Axes>"
      ]
     },
     "metadata": {
      "needs_background": "light"
     },
     "output_type": "display_data"
    }
   ],
   "source": [
    "cat_to_draw = np.random.choice(list(X.iloc[:,cat_cols].columns),5)\n",
    "plt.figure(figsize=(24,4))\n",
    "for i,feat in enumerate(cat_to_draw):\n",
    "    plt.subplot(1,5,i+1)\n",
    "    sns.kdeplot(train.loc[:,feat],hue=y)\n",
    "    plt.title(f'{feat} distribution');"
   ]
  },
  {
   "cell_type": "code",
   "execution_count": 18,
   "metadata": {},
   "outputs": [
    {
     "data": {
      "image/png": "[encoded data removed]",
      "text/plain": [
       "<Figure size 1728x288 with 5 Axes>"
      ]
     },
     "metadata": {
      "needs_background": "light"
     },
     "output_type": "display_data"
    }
   ],
   "source": [
    "disc_to_draw = np.random.choice(list(X.iloc[:,disc_cols].columns),5)\n",
    "plt.figure(figsize=(24,4))\n",
    "for i,feat in enumerate(disc_to_draw):\n",
    "    plt.subplot(1,5,i+1)\n",
    "    sns.kdeplot(train.loc[:,feat],hue=y)\n",
    "    plt.title(f'{feat} distribution');"
   ]
  },
  {
   "cell_type": "markdown",
   "metadata": {},
   "source": [
    "There are outliars in discrete features. Which can affect bad on building model."
   ]
  },
  {
   "cell_type": "markdown",
   "metadata": {},
   "source": [
    "Amount of values in binary features (columns with 95% values of one class or more should be dropped due to its significant disbalance). Also it adds noise."
   ]
  },
  {
   "cell_type": "code",
   "execution_count": 19,
   "metadata": {},
   "outputs": [],
   "source": [
    "bin_cols_drop = []\n",
    "for col in bin_cols:\n",
    "    if np.bincount(X.iloc[:,col])[0]/sum(np.bincount(X.iloc[:,col]))*100>95:\n",
    "        bin_cols_drop.append(col)"
   ]
  },
  {
   "cell_type": "code",
   "execution_count": 20,
   "metadata": {},
   "outputs": [],
   "source": [
    "cols_to_drop = const_cols + bin_cols_drop"
   ]
  },
  {
   "cell_type": "code",
   "execution_count": 21,
   "metadata": {},
   "outputs": [],
   "source": [
    "X.drop(X.columns[cols_to_drop],axis=1,inplace=True)\n",
    "test.drop(test.columns[cols_to_drop],axis=1,inplace=True)"
   ]
  },
  {
   "cell_type": "markdown",
   "metadata": {},
   "source": [
    "## 3. Building model"
   ]
  },
  {
   "cell_type": "markdown",
   "metadata": {},
   "source": [
    "### 3.1 Comparing ML algorithms."
   ]
  },
  {
   "cell_type": "markdown",
   "metadata": {},
   "source": [
    "Function for convinient comparison results."
   ]
  },
  {
   "cell_type": "code",
   "execution_count": 22,
   "metadata": {},
   "outputs": [],
   "source": [
    "def evaluate_score(model,X,y):\n",
    "    ''' \n",
    "    Function counts cross-validation score, time (overall train + prediction) of model\n",
    "    Crossval score is f1_macro, cv = 3\n",
    "    \n",
    "    '''\n",
    "    model_instance = model\n",
    "    time_before = time.time()\n",
    "    cvs = cross_val_score(model_instance,X,y,cv=3,scoring='f1_macro',n_jobs=-1).mean()\n",
    "    time_after = time.time()\n",
    "    result = pd.DataFrame({'name':model.__class__.__name__,'cross_val_score':cvs,\n",
    "                           'time':time_after - time_before},index=[0])\n",
    "    return result"
   ]
  },
  {
   "cell_type": "markdown",
   "metadata": {},
   "source": [
    "List of ML algorithms for research."
   ]
  },
  {
   "cell_type": "code",
   "execution_count": 23,
   "metadata": {},
   "outputs": [],
   "source": [
    "classifiers =  [DecisionTreeClassifier(criterion='entropy',max_depth=8,min_samples_leaf=2,random_state=4),\n",
    "                RidgeClassifier(alpha = 1.5, max_iter = 2000, random_state=4),\n",
    "                KNeighborsClassifier(algorithm = 'ball_tree',n_neighbors=3,weights='distance'),\n",
    "                RandomForestClassifier(criterion='entropy'),\n",
    "                SGDClassifier(penalty='l1',max_iter=1000,learning_rate='optimal',random_state=4)]"
   ]
  },
  {
   "cell_type": "code",
   "execution_count": 24,
   "metadata": {},
   "outputs": [
    {
     "data": {
      "text/html": [
       "<div>\n",
       "<style scoped>\n",
       "    .dataframe tbody tr th:only-of-type {\n",
       "        vertical-align: middle;\n",
       "    }\n",
       "\n",
       "    .dataframe tbody tr th {\n",
       "        vertical-align: top;\n",
       "    }\n",
       "\n",
       "    .dataframe thead th {\n",
       "        text-align: right;\n",
       "    }\n",
       "</style>\n",
       "<table border=\"1\" class=\"dataframe\">\n",
       "  <thead>\n",
       "    <tr style=\"text-align: right;\">\n",
       "      <th></th>\n",
       "      <th>name</th>\n",
       "      <th>cross_val_score</th>\n",
       "      <th>time</th>\n",
       "    </tr>\n",
       "  </thead>\n",
       "  <tbody>\n",
       "    <tr>\n",
       "      <th>0</th>\n",
       "      <td>RandomForestClassifier</td>\n",
       "      <td>0.376925</td>\n",
       "      <td>18.594860</td>\n",
       "    </tr>\n",
       "    <tr>\n",
       "      <th>0</th>\n",
       "      <td>KNeighborsClassifier</td>\n",
       "      <td>0.381468</td>\n",
       "      <td>44.387662</td>\n",
       "    </tr>\n",
       "    <tr>\n",
       "      <th>0</th>\n",
       "      <td>RidgeClassifier</td>\n",
       "      <td>0.389199</td>\n",
       "      <td>0.885519</td>\n",
       "    </tr>\n",
       "    <tr>\n",
       "      <th>0</th>\n",
       "      <td>DecisionTreeClassifier</td>\n",
       "      <td>0.404433</td>\n",
       "      <td>3.661342</td>\n",
       "    </tr>\n",
       "    <tr>\n",
       "      <th>0</th>\n",
       "      <td>SGDClassifier</td>\n",
       "      <td>0.436331</td>\n",
       "      <td>5.063782</td>\n",
       "    </tr>\n",
       "  </tbody>\n",
       "</table>\n",
       "</div>"
      ],
      "text/plain": [
       "                     name  cross_val_score       time\n",
       "0  RandomForestClassifier         0.376925  18.594860\n",
       "0    KNeighborsClassifier         0.381468  44.387662\n",
       "0         RidgeClassifier         0.389199   0.885519\n",
       "0  DecisionTreeClassifier         0.404433   3.661342\n",
       "0           SGDClassifier         0.436331   5.063782"
      ]
     },
     "execution_count": 24,
     "metadata": {},
     "output_type": "execute_result"
    }
   ],
   "source": [
    "results = pd.DataFrame(columns = ['name','cross_val_score','time'])\n",
    "for classifier in classifiers:\n",
    "    results = results.append(evaluate_score(classifier,X,y))    \n",
    "results.sort_values(by='cross_val_score')"
   ]
  },
  {
   "cell_type": "markdown",
   "metadata": {},
   "source": [
    "### 3.2 Preprocessing"
   ]
  },
  {
   "cell_type": "markdown",
   "metadata": {},
   "source": [
    "Standardization of a dataset is a common requirement for many machine learning estimators. Typically this is done by removing the mean and scaling to unit variance. However, outliers can often influence the sample mean / variance in a negative way.  \n",
    "Scale features using statistics that are robust to outliers.  \n",
    "Robust Scaler removes the median and scales the data according to the quantile range (defaults to IQR: Interquartile Range). The IQR is the range between the 1st quartile (25th quantile) and the 3rd quartile (75th quantile)."
   ]
  },
  {
   "cell_type": "code",
   "execution_count": 25,
   "metadata": {},
   "outputs": [],
   "source": [
    "robust = RobustScaler()\n",
    "X_robust = robust.fit_transform(X)\n",
    "test_robust = robust.transform(test)"
   ]
  },
  {
   "cell_type": "code",
   "execution_count": 26,
   "metadata": {},
   "outputs": [
    {
     "data": {
      "text/html": [
       "<div>\n",
       "<style scoped>\n",
       "    .dataframe tbody tr th:only-of-type {\n",
       "        vertical-align: middle;\n",
       "    }\n",
       "\n",
       "    .dataframe tbody tr th {\n",
       "        vertical-align: top;\n",
       "    }\n",
       "\n",
       "    .dataframe thead th {\n",
       "        text-align: right;\n",
       "    }\n",
       "</style>\n",
       "<table border=\"1\" class=\"dataframe\">\n",
       "  <thead>\n",
       "    <tr style=\"text-align: right;\">\n",
       "      <th></th>\n",
       "      <th>name</th>\n",
       "      <th>cross_val_score</th>\n",
       "      <th>time</th>\n",
       "    </tr>\n",
       "  </thead>\n",
       "  <tbody>\n",
       "    <tr>\n",
       "      <th>0</th>\n",
       "      <td>KNeighborsClassifier</td>\n",
       "      <td>0.376753</td>\n",
       "      <td>45.473884</td>\n",
       "    </tr>\n",
       "    <tr>\n",
       "      <th>0</th>\n",
       "      <td>RandomForestClassifier</td>\n",
       "      <td>0.377973</td>\n",
       "      <td>18.236672</td>\n",
       "    </tr>\n",
       "    <tr>\n",
       "      <th>0</th>\n",
       "      <td>RidgeClassifier</td>\n",
       "      <td>0.390169</td>\n",
       "      <td>0.350186</td>\n",
       "    </tr>\n",
       "    <tr>\n",
       "      <th>0</th>\n",
       "      <td>DecisionTreeClassifier</td>\n",
       "      <td>0.404433</td>\n",
       "      <td>2.758160</td>\n",
       "    </tr>\n",
       "    <tr>\n",
       "      <th>0</th>\n",
       "      <td>SGDClassifier</td>\n",
       "      <td>0.453029</td>\n",
       "      <td>12.291115</td>\n",
       "    </tr>\n",
       "  </tbody>\n",
       "</table>\n",
       "</div>"
      ],
      "text/plain": [
       "                     name  cross_val_score       time\n",
       "0    KNeighborsClassifier         0.376753  45.473884\n",
       "0  RandomForestClassifier         0.377973  18.236672\n",
       "0         RidgeClassifier         0.390169   0.350186\n",
       "0  DecisionTreeClassifier         0.404433   2.758160\n",
       "0           SGDClassifier         0.453029  12.291115"
      ]
     },
     "execution_count": 26,
     "metadata": {},
     "output_type": "execute_result"
    }
   ],
   "source": [
    "results_robust = pd.DataFrame(columns = ['name','cross_val_score','time'])\n",
    "for classifier in classifiers:\n",
    "    results_robust = results_robust.append(evaluate_score(classifier,X_robust,y))    \n",
    "results_robust.sort_values(by='cross_val_score')"
   ]
  },
  {
   "cell_type": "markdown",
   "metadata": {},
   "source": [
    "Results improved only for linear models."
   ]
  },
  {
   "cell_type": "markdown",
   "metadata": {},
   "source": [
    "### 3.3 Feature selection\n",
    "Sometimes datasets contain a lot of columns and some of them are irrelevant. Removing features can improve speed and model's perfomance."
   ]
  },
  {
   "cell_type": "markdown",
   "metadata": {},
   "source": [
    "#### PCA\n",
    "PCA is the process of dimensionality reduction by projecting each data point onto only the first few principal components. The first principal component can equivalently be defined as a direction that maximizes the variance of the projected data."
   ]
  },
  {
   "cell_type": "code",
   "execution_count": 27,
   "metadata": {},
   "outputs": [
    {
     "data": {
      "text/plain": [
       "(24521, 44)"
      ]
     },
     "execution_count": 27,
     "metadata": {},
     "output_type": "execute_result"
    }
   ],
   "source": [
    "pca = PCA(0.999) #0.999 explained variance\n",
    "X_pca = pca.fit_transform(X)\n",
    "X_pca.shape"
   ]
  },
  {
   "cell_type": "code",
   "execution_count": 28,
   "metadata": {},
   "outputs": [
    {
     "data": {
      "text/html": [
       "<div>\n",
       "<style scoped>\n",
       "    .dataframe tbody tr th:only-of-type {\n",
       "        vertical-align: middle;\n",
       "    }\n",
       "\n",
       "    .dataframe tbody tr th {\n",
       "        vertical-align: top;\n",
       "    }\n",
       "\n",
       "    .dataframe thead th {\n",
       "        text-align: right;\n",
       "    }\n",
       "</style>\n",
       "<table border=\"1\" class=\"dataframe\">\n",
       "  <thead>\n",
       "    <tr style=\"text-align: right;\">\n",
       "      <th></th>\n",
       "      <th>name</th>\n",
       "      <th>cross_val_score</th>\n",
       "      <th>time</th>\n",
       "    </tr>\n",
       "  </thead>\n",
       "  <tbody>\n",
       "    <tr>\n",
       "      <th>0</th>\n",
       "      <td>SGDClassifier</td>\n",
       "      <td>0.273203</td>\n",
       "      <td>1.493165</td>\n",
       "    </tr>\n",
       "    <tr>\n",
       "      <th>0</th>\n",
       "      <td>RidgeClassifier</td>\n",
       "      <td>0.276478</td>\n",
       "      <td>0.168120</td>\n",
       "    </tr>\n",
       "    <tr>\n",
       "      <th>0</th>\n",
       "      <td>RandomForestClassifier</td>\n",
       "      <td>0.293589</td>\n",
       "      <td>12.217546</td>\n",
       "    </tr>\n",
       "    <tr>\n",
       "      <th>0</th>\n",
       "      <td>DecisionTreeClassifier</td>\n",
       "      <td>0.336342</td>\n",
       "      <td>0.973292</td>\n",
       "    </tr>\n",
       "    <tr>\n",
       "      <th>0</th>\n",
       "      <td>KNeighborsClassifier</td>\n",
       "      <td>0.379466</td>\n",
       "      <td>8.492400</td>\n",
       "    </tr>\n",
       "  </tbody>\n",
       "</table>\n",
       "</div>"
      ],
      "text/plain": [
       "                     name  cross_val_score       time\n",
       "0           SGDClassifier         0.273203   1.493165\n",
       "0         RidgeClassifier         0.276478   0.168120\n",
       "0  RandomForestClassifier         0.293589  12.217546\n",
       "0  DecisionTreeClassifier         0.336342   0.973292\n",
       "0    KNeighborsClassifier         0.379466   8.492400"
      ]
     },
     "execution_count": 28,
     "metadata": {},
     "output_type": "execute_result"
    }
   ],
   "source": [
    "results_pca = pd.DataFrame(columns = ['name','cross_val_score','time'])\n",
    "for classifier in classifiers:\n",
    "    results_pca = results_pca.append(evaluate_score(classifier,X_pca,y))    \n",
    "results_pca.sort_values(by='cross_val_score')"
   ]
  },
  {
   "cell_type": "markdown",
   "metadata": {},
   "source": [
    "#### LassoCV\n",
    "Lasso (least absolute shrinkage and selection operator) is a regression analysis method that performs both variable selection and regularization in order to enhance the prediction accuracy and interpretability of the statistical model it produces."
   ]
  },
  {
   "cell_type": "code",
   "execution_count": 29,
   "metadata": {},
   "outputs": [
    {
     "name": "stderr",
     "output_type": "stream",
     "text": [
      "/Users/borisevich.vd/venv/lib/python3.8/site-packages/sklearn/linear_model/_coordinate_descent.py:529: ConvergenceWarning: Objective did not converge. You might want to increase the number of iterations. Duality gap: 705.2165943499158, tolerance: 0.8596046735451229\n",
      "  model = cd_fast.enet_coordinate_descent(\n"
     ]
    },
    {
     "data": {
      "text/plain": [
       "(24521, 53)"
      ]
     },
     "execution_count": 29,
     "metadata": {},
     "output_type": "execute_result"
    }
   ],
   "source": [
    "selector = feature_selection.SelectFromModel(Lasso(alpha=0.3,random_state=4,max_iter=500)).fit(X,y)\n",
    "X_sel = selector.transform(X)\n",
    "X_sel.shape"
   ]
  },
  {
   "cell_type": "code",
   "execution_count": 30,
   "metadata": {},
   "outputs": [
    {
     "data": {
      "text/html": [
       "<div>\n",
       "<style scoped>\n",
       "    .dataframe tbody tr th:only-of-type {\n",
       "        vertical-align: middle;\n",
       "    }\n",
       "\n",
       "    .dataframe tbody tr th {\n",
       "        vertical-align: top;\n",
       "    }\n",
       "\n",
       "    .dataframe thead th {\n",
       "        text-align: right;\n",
       "    }\n",
       "</style>\n",
       "<table border=\"1\" class=\"dataframe\">\n",
       "  <thead>\n",
       "    <tr style=\"text-align: right;\">\n",
       "      <th></th>\n",
       "      <th>name</th>\n",
       "      <th>cross_val_score</th>\n",
       "      <th>time</th>\n",
       "    </tr>\n",
       "  </thead>\n",
       "  <tbody>\n",
       "    <tr>\n",
       "      <th>0</th>\n",
       "      <td>RidgeClassifier</td>\n",
       "      <td>0.327050</td>\n",
       "      <td>0.186304</td>\n",
       "    </tr>\n",
       "    <tr>\n",
       "      <th>0</th>\n",
       "      <td>RandomForestClassifier</td>\n",
       "      <td>0.362866</td>\n",
       "      <td>10.970489</td>\n",
       "    </tr>\n",
       "    <tr>\n",
       "      <th>0</th>\n",
       "      <td>KNeighborsClassifier</td>\n",
       "      <td>0.369632</td>\n",
       "      <td>12.400464</td>\n",
       "    </tr>\n",
       "    <tr>\n",
       "      <th>0</th>\n",
       "      <td>SGDClassifier</td>\n",
       "      <td>0.371804</td>\n",
       "      <td>3.478886</td>\n",
       "    </tr>\n",
       "    <tr>\n",
       "      <th>0</th>\n",
       "      <td>DecisionTreeClassifier</td>\n",
       "      <td>0.377866</td>\n",
       "      <td>0.835572</td>\n",
       "    </tr>\n",
       "  </tbody>\n",
       "</table>\n",
       "</div>"
      ],
      "text/plain": [
       "                     name  cross_val_score       time\n",
       "0         RidgeClassifier         0.327050   0.186304\n",
       "0  RandomForestClassifier         0.362866  10.970489\n",
       "0    KNeighborsClassifier         0.369632  12.400464\n",
       "0           SGDClassifier         0.371804   3.478886\n",
       "0  DecisionTreeClassifier         0.377866   0.835572"
      ]
     },
     "execution_count": 30,
     "metadata": {},
     "output_type": "execute_result"
    }
   ],
   "source": [
    "results_sel = pd.DataFrame(columns = ['name','cross_val_score','time'])\n",
    "for classifier in classifiers:\n",
    "    results_sel = results_sel.append(evaluate_score(classifier,X_sel,y))    \n",
    "results_sel.sort_values(by='cross_val_score')"
   ]
  },
  {
   "cell_type": "markdown",
   "metadata": {},
   "source": [
    "### 3.4 Class imbalance treatment \n",
    "Data are said to suffer the class imbalance problem when the class distributions are highly imbalanced. In this context, many classification learning algorithms have low predictive accuracy for the infrequent class. An important task is to solve the imbalance."
   ]
  },
  {
   "cell_type": "markdown",
   "metadata": {},
   "source": [
    "There are could be two directions:\n",
    "1. Search optimal class weight for model\n",
    "2. Change dataset distribution  \n",
    "    2.1 Undersampling  \n",
    "    2.2 Oversampling"
   ]
  },
  {
   "cell_type": "markdown",
   "metadata": {},
   "source": [
    "Ridge classifier with class_weight. Class_weight helps model to handle class disbalance."
   ]
  },
  {
   "cell_type": "code",
   "execution_count": 31,
   "metadata": {},
   "outputs": [
    {
     "data": {
      "text/plain": [
       "0.5149407561951709"
      ]
     },
     "execution_count": 31,
     "metadata": {},
     "output_type": "execute_result"
    }
   ],
   "source": [
    "ridge = RidgeClassifier(random_state=4,alpha=100,max_iter=100,class_weight={0:1,1:2,2:3})\n",
    "train = shuffle(train)\n",
    "cvs = cross_val_score(ridge,train.drop(['TARGET'],axis=1),train.TARGET,cv=5,scoring='f1_macro')\n",
    "cvs.mean()"
   ]
  },
  {
   "cell_type": "markdown",
   "metadata": {},
   "source": [
    "Making holdout fold. Test set should keep origin class distribution."
   ]
  },
  {
   "cell_type": "code",
   "execution_count": 32,
   "metadata": {},
   "outputs": [],
   "source": [
    "X_train,X_test,y_train,y_test = train_test_split(X,y,test_size=0.2,random_state=4,stratify=y)"
   ]
  },
  {
   "cell_type": "markdown",
   "metadata": {},
   "source": [
    "Function to find best class_weight parameters."
   ]
  },
  {
   "cell_type": "code",
   "execution_count": 48,
   "metadata": {},
   "outputs": [],
   "source": [
    "def search_class_weight(classifier,X_train,y_train,X_test,y_test,weight0,weight1,weight2):\n",
    "    f1_max = 0\n",
    "    for k in tqdm(weight0):\n",
    "        for i in weight1:\n",
    "            for j in weight2:\n",
    "                if classifier == 'ridge':\n",
    "                    ridge = RidgeClassifier(random_state=4,alpha=100,max_iter=100,\n",
    "                                            class_weight={0:k,1:i,2:j})\n",
    "                    ridge.fit(X_train,y_train)\n",
    "                    pred = ridge.predict(X_test)\n",
    "                    f1 = f1_score(y_test,ridge.predict(X_test),average=\"macro\")\n",
    "                if classifier == 'sgd':\n",
    "                    sgd = SGDClassifier(penalty='l1',max_iter=1000,learning_rate='optimal',\n",
    "                                          random_state=4,class_weight={0:k,1:i,2:j},n_jobs=-1)\n",
    "                    sgd.fit(X_train,y_train)\n",
    "                    pred = sgd.predict(X_test)\n",
    "                    f1 = f1_score(y_test,sgd.predict(X_test),average=\"macro\")\n",
    "                if classifier == 'tree':\n",
    "                    tree = DecisionTreeClassifier(max_depth=8,min_samples_leaf=2,\n",
    "                                                  random_state=4,class_weight={0:k,1:i,2:j})\n",
    "                    tree.fit(X_train,y_train)\n",
    "                    pred = tree.predict(X_test)\n",
    "                    f1 = f1_score(y_test,tree.predict(X_test),average=\"macro\")\n",
    "                if f1 > f1_max:\n",
    "                    f1_max = f1\n",
    "                    weight_0_f1 = k\n",
    "                    weight_1_f1 = i\n",
    "                    weight_2_f1 = j\n",
    "    return f1_max,weight_0_f1,weight_1_f1,weight_2_f1"
   ]
  },
  {
   "cell_type": "code",
   "execution_count": 49,
   "metadata": {},
   "outputs": [
    {
     "name": "stderr",
     "output_type": "stream",
     "text": [
      "100%|██████████| 6/6 [01:19<00:00, 13.21s/it]\n"
     ]
    }
   ],
   "source": [
    "f,w1,w2,w3 = search_class_weight('ridge',X_train,y_train,\n",
    "                                 X_test,y_test,np.arange(0.6,1.2,0.1),\n",
    "                                 np.arange(1.2,2,0.1),np.arange(2.2,3.3,0.1))\n"
   ]
  },
  {
   "cell_type": "code",
   "execution_count": 50,
   "metadata": {},
   "outputs": [
    {
     "data": {
      "text/plain": [
       "(0.5322009602699996, 0.7, 1.7000000000000004, 2.900000000000001)"
      ]
     },
     "execution_count": 50,
     "metadata": {},
     "output_type": "execute_result"
    }
   ],
   "source": [
    "f,w1,w2,w3"
   ]
  },
  {
   "cell_type": "markdown",
   "metadata": {},
   "source": [
    "There are 2 ways to combat with disbalanced target value. They all related with equation of the class quantity. First way is undersampling which makes amount of all classes equal to minority. Another one is oversampling which equal to majority class."
   ]
  },
  {
   "cell_type": "markdown",
   "metadata": {},
   "source": [
    "NearMiss algorithms for undersampling dataset. NearMiss version-1 (default version) selects examples from the majority class that have the smallest average distance to the three closest examples from the minority class."
   ]
  },
  {
   "cell_type": "code",
   "execution_count": 36,
   "metadata": {},
   "outputs": [],
   "source": [
    "near = NearMiss(sampling_strategy='auto',version=1)\n",
    "X_under, y_under = near.fit_resample(X_train, y_train)\n",
    "X_under,y_under = shuffle(X_under,y_under)"
   ]
  },
  {
   "cell_type": "code",
   "execution_count": 37,
   "metadata": {},
   "outputs": [
    {
     "data": {
      "text/plain": [
       "1    1199\n",
       "2    1199\n",
       "0    1199\n",
       "Name: TARGET, dtype: int64"
      ]
     },
     "execution_count": 37,
     "metadata": {},
     "output_type": "execute_result"
    }
   ],
   "source": [
    "y_under.value_counts()"
   ]
  },
  {
   "cell_type": "code",
   "execution_count": 38,
   "metadata": {},
   "outputs": [
    {
     "data": {
      "text/html": [
       "<div>\n",
       "<style scoped>\n",
       "    .dataframe tbody tr th:only-of-type {\n",
       "        vertical-align: middle;\n",
       "    }\n",
       "\n",
       "    .dataframe tbody tr th {\n",
       "        vertical-align: top;\n",
       "    }\n",
       "\n",
       "    .dataframe thead th {\n",
       "        text-align: right;\n",
       "    }\n",
       "</style>\n",
       "<table border=\"1\" class=\"dataframe\">\n",
       "  <thead>\n",
       "    <tr style=\"text-align: right;\">\n",
       "      <th></th>\n",
       "      <th>name</th>\n",
       "      <th>cross_val_score</th>\n",
       "      <th>hold_out</th>\n",
       "      <th>time</th>\n",
       "    </tr>\n",
       "  </thead>\n",
       "  <tbody>\n",
       "    <tr>\n",
       "      <th>0</th>\n",
       "      <td>KNeighborsClassifier</td>\n",
       "      <td>0.520782</td>\n",
       "      <td>0.179347</td>\n",
       "      <td>1.654082</td>\n",
       "    </tr>\n",
       "    <tr>\n",
       "      <th>0</th>\n",
       "      <td>DecisionTreeClassifier</td>\n",
       "      <td>0.556568</td>\n",
       "      <td>0.197531</td>\n",
       "      <td>0.483952</td>\n",
       "    </tr>\n",
       "    <tr>\n",
       "      <th>0</th>\n",
       "      <td>SGDClassifier</td>\n",
       "      <td>0.569497</td>\n",
       "      <td>0.171620</td>\n",
       "      <td>1.410851</td>\n",
       "    </tr>\n",
       "    <tr>\n",
       "      <th>0</th>\n",
       "      <td>RidgeClassifier</td>\n",
       "      <td>0.619050</td>\n",
       "      <td>0.229080</td>\n",
       "      <td>0.177229</td>\n",
       "    </tr>\n",
       "    <tr>\n",
       "      <th>0</th>\n",
       "      <td>RandomForestClassifier</td>\n",
       "      <td>0.643325</td>\n",
       "      <td>0.190697</td>\n",
       "      <td>2.088786</td>\n",
       "    </tr>\n",
       "  </tbody>\n",
       "</table>\n",
       "</div>"
      ],
      "text/plain": [
       "                     name  cross_val_score  hold_out      time\n",
       "0    KNeighborsClassifier         0.520782  0.179347  1.654082\n",
       "0  DecisionTreeClassifier         0.556568  0.197531  0.483952\n",
       "0           SGDClassifier         0.569497  0.171620  1.410851\n",
       "0         RidgeClassifier         0.619050  0.229080  0.177229\n",
       "0  RandomForestClassifier         0.643325  0.190697  2.088786"
      ]
     },
     "execution_count": 38,
     "metadata": {},
     "output_type": "execute_result"
    }
   ],
   "source": [
    "results_under = pd.DataFrame(columns = ['name','cross_val_score','hold_out','time'])\n",
    "f1_list = []\n",
    "for classifier in classifiers:\n",
    "    results_under = results_under.append(evaluate_score(classifier,X_under,y_under))\n",
    "    classifier.fit(X_under,y_under)\n",
    "    pred = classifier.predict(X_test)\n",
    "    f1 = f1_score(y_test,classifier.predict(X_test),average=\"macro\")\n",
    "    f1_list.append(f1)\n",
    "results_under['hold_out'] = f1_list\n",
    "results_under.sort_values(by='cross_val_score')"
   ]
  },
  {
   "cell_type": "markdown",
   "metadata": {},
   "source": [
    "Results turn out bad. Even class weight regulizing doesn't help much."
   ]
  },
  {
   "cell_type": "code",
   "execution_count": 42,
   "metadata": {},
   "outputs": [
    {
     "name": "stderr",
     "output_type": "stream",
     "text": [
      "100%|██████████| 5/5 [01:16<00:00, 15.21s/it]\n"
     ]
    },
    {
     "data": {
      "text/plain": [
       "(0.22328557665608106, 3.0, 0.4000000000000001, 0.7)"
      ]
     },
     "execution_count": 42,
     "metadata": {},
     "output_type": "execute_result"
    }
   ],
   "source": [
    "f,w1,w2,w3 = search_class_weight('tree',X_under,y_under,\n",
    "                                 X_test,y_test,np.arange(1,3.5,0.5),\n",
    "                                 np.arange(0.2,0.8,0.1),np.arange(0.5,1.2,0.1))\n",
    "f,w1,w2,w3"
   ]
  },
  {
   "cell_type": "markdown",
   "metadata": {},
   "source": [
    "Synthetic Minority Oversampling Technique. SMOTE works by selecting examples that are close in the feature space, drawing a line between the examples in the feature space and drawing a new sample at a point along that line.\n",
    "\n",
    "Specifically, a random example from the minority class is first chosen. Then k of the nearest neighbors for that example are found (basically k=5). A randomly selected neighbor is chosen and a synthetic example is created at a randomly selected point between the two examples in feature space."
   ]
  },
  {
   "cell_type": "code",
   "execution_count": 43,
   "metadata": {},
   "outputs": [],
   "source": [
    "smote = SMOTE(sampling_strategy='auto',random_state=4)\n",
    "X_over, y_over = smote.fit_resample(X_train, y_train)\n",
    "X_over,y_over = shuffle(X_over,y_over)"
   ]
  },
  {
   "cell_type": "code",
   "execution_count": 44,
   "metadata": {},
   "outputs": [
    {
     "data": {
      "text/plain": [
       "2    13897\n",
       "1    13897\n",
       "0    13897\n",
       "Name: TARGET, dtype: int64"
      ]
     },
     "execution_count": 44,
     "metadata": {},
     "output_type": "execute_result"
    }
   ],
   "source": [
    "y_over.value_counts()"
   ]
  },
  {
   "cell_type": "code",
   "execution_count": 47,
   "metadata": {},
   "outputs": [
    {
     "data": {
      "text/html": [
       "<div>\n",
       "<style scoped>\n",
       "    .dataframe tbody tr th:only-of-type {\n",
       "        vertical-align: middle;\n",
       "    }\n",
       "\n",
       "    .dataframe tbody tr th {\n",
       "        vertical-align: top;\n",
       "    }\n",
       "\n",
       "    .dataframe thead th {\n",
       "        text-align: right;\n",
       "    }\n",
       "</style>\n",
       "<table border=\"1\" class=\"dataframe\">\n",
       "  <thead>\n",
       "    <tr style=\"text-align: right;\">\n",
       "      <th></th>\n",
       "      <th>name</th>\n",
       "      <th>cross_val_score</th>\n",
       "      <th>hold_out</th>\n",
       "      <th>time</th>\n",
       "    </tr>\n",
       "  </thead>\n",
       "  <tbody>\n",
       "    <tr>\n",
       "      <th>0</th>\n",
       "      <td>SGDClassifier</td>\n",
       "      <td>0.554250</td>\n",
       "      <td>0.405886</td>\n",
       "      <td>13.775446</td>\n",
       "    </tr>\n",
       "    <tr>\n",
       "      <th>0</th>\n",
       "      <td>RidgeClassifier</td>\n",
       "      <td>0.648070</td>\n",
       "      <td>0.482526</td>\n",
       "      <td>1.059614</td>\n",
       "    </tr>\n",
       "    <tr>\n",
       "      <th>0</th>\n",
       "      <td>DecisionTreeClassifier</td>\n",
       "      <td>0.674179</td>\n",
       "      <td>0.440236</td>\n",
       "      <td>6.275412</td>\n",
       "    </tr>\n",
       "    <tr>\n",
       "      <th>0</th>\n",
       "      <td>KNeighborsClassifier</td>\n",
       "      <td>0.762893</td>\n",
       "      <td>0.353448</td>\n",
       "      <td>149.124693</td>\n",
       "    </tr>\n",
       "    <tr>\n",
       "      <th>0</th>\n",
       "      <td>RandomForestClassifier</td>\n",
       "      <td>0.843078</td>\n",
       "      <td>0.486399</td>\n",
       "      <td>34.432686</td>\n",
       "    </tr>\n",
       "  </tbody>\n",
       "</table>\n",
       "</div>"
      ],
      "text/plain": [
       "                     name  cross_val_score  hold_out        time\n",
       "0           SGDClassifier         0.554250  0.405886   13.775446\n",
       "0         RidgeClassifier         0.648070  0.482526    1.059614\n",
       "0  DecisionTreeClassifier         0.674179  0.440236    6.275412\n",
       "0    KNeighborsClassifier         0.762893  0.353448  149.124693\n",
       "0  RandomForestClassifier         0.843078  0.486399   34.432686"
      ]
     },
     "execution_count": 47,
     "metadata": {},
     "output_type": "execute_result"
    }
   ],
   "source": [
    "results_over = pd.DataFrame(columns = ['name','cross_val_score','hold_out','time'])\n",
    "f1_list = []\n",
    "for classifier in classifiers:\n",
    "    results_over = results_over.append(evaluate_score(classifier,X_over,y_over))\n",
    "    classifier.fit(X_over,y_over)\n",
    "    pred = classifier.predict(X_test)\n",
    "    f1 = f1_score(y_test,classifier.predict(X_test),average=\"macro\")\n",
    "    f1_list.append(f1)\n",
    "results_over['hold_out'] = f1_list\n",
    "results_over.sort_values(by='cross_val_score')"
   ]
  },
  {
   "cell_type": "markdown",
   "metadata": {},
   "source": [
    "Much better than NearMiss strategy. Cross val score is high because many of values are syntetic. Hold out score is evaluated on test size (origin distribution)."
   ]
  },
  {
   "cell_type": "code",
   "execution_count": 69,
   "metadata": {},
   "outputs": [
    {
     "name": "stderr",
     "output_type": "stream",
     "text": [
      "100%|██████████| 4/4 [01:35<00:00, 23.84s/it]\n"
     ]
    },
    {
     "data": {
      "text/plain": [
       "(0.5156846947048166, 1.0, 0.7000000000000001, 0.30000000000000004)"
      ]
     },
     "execution_count": 69,
     "metadata": {},
     "output_type": "execute_result"
    }
   ],
   "source": [
    "f,w1,w2,w3 = search_class_weight('ridge',X_over,y_over,\n",
    "                                 X_test,y_test,np.arange(0.8,1.2,0.1),\n",
    "                                 np.arange(0.1,1,0.1),np.arange(0.1,1,0.1))\n",
    "f,w1,w2,w3"
   ]
  },
  {
   "cell_type": "markdown",
   "metadata": {},
   "source": [
    "Manual correcting class disbalance by removing majority class values. Rows are chosen randomly."
   ]
  },
  {
   "cell_type": "code",
   "execution_count": 70,
   "metadata": {},
   "outputs": [],
   "source": [
    "target_0 = y_train[y_train==0].index\n",
    "target_1 = y_train[y_train==1].index\n",
    "target_to_drop_0 = np.random.choice(target_0,10000,replace=False)\n",
    "target_to_drop_1 = np.random.choice(target_1,2000,replace=False)\n",
    "to_drop  = np.union1d(target_to_drop_0,target_to_drop_1)\n",
    "X_res = X_train.drop(to_drop,axis=0)\n",
    "y_res = y_train.drop(to_drop,axis=0)"
   ]
  },
  {
   "cell_type": "code",
   "execution_count": 71,
   "metadata": {},
   "outputs": [
    {
     "data": {
      "text/html": [
       "<div>\n",
       "<style scoped>\n",
       "    .dataframe tbody tr th:only-of-type {\n",
       "        vertical-align: middle;\n",
       "    }\n",
       "\n",
       "    .dataframe tbody tr th {\n",
       "        vertical-align: top;\n",
       "    }\n",
       "\n",
       "    .dataframe thead th {\n",
       "        text-align: right;\n",
       "    }\n",
       "</style>\n",
       "<table border=\"1\" class=\"dataframe\">\n",
       "  <thead>\n",
       "    <tr style=\"text-align: right;\">\n",
       "      <th></th>\n",
       "      <th>name</th>\n",
       "      <th>cross_val_score</th>\n",
       "      <th>hold_out</th>\n",
       "      <th>time</th>\n",
       "    </tr>\n",
       "  </thead>\n",
       "  <tbody>\n",
       "    <tr>\n",
       "      <th>0</th>\n",
       "      <td>KNeighborsClassifier</td>\n",
       "      <td>0.428082</td>\n",
       "      <td>0.390898</td>\n",
       "      <td>5.066035</td>\n",
       "    </tr>\n",
       "    <tr>\n",
       "      <th>0</th>\n",
       "      <td>SGDClassifier</td>\n",
       "      <td>0.434619</td>\n",
       "      <td>0.466180</td>\n",
       "      <td>1.796333</td>\n",
       "    </tr>\n",
       "    <tr>\n",
       "      <th>0</th>\n",
       "      <td>DecisionTreeClassifier</td>\n",
       "      <td>0.473628</td>\n",
       "      <td>0.473661</td>\n",
       "      <td>1.804142</td>\n",
       "    </tr>\n",
       "    <tr>\n",
       "      <th>0</th>\n",
       "      <td>RandomForestClassifier</td>\n",
       "      <td>0.508642</td>\n",
       "      <td>0.505112</td>\n",
       "      <td>5.042689</td>\n",
       "    </tr>\n",
       "    <tr>\n",
       "      <th>0</th>\n",
       "      <td>RidgeClassifier</td>\n",
       "      <td>0.527784</td>\n",
       "      <td>0.526643</td>\n",
       "      <td>0.735677</td>\n",
       "    </tr>\n",
       "  </tbody>\n",
       "</table>\n",
       "</div>"
      ],
      "text/plain": [
       "                     name  cross_val_score  hold_out      time\n",
       "0    KNeighborsClassifier         0.428082  0.390898  5.066035\n",
       "0           SGDClassifier         0.434619  0.466180  1.796333\n",
       "0  DecisionTreeClassifier         0.473628  0.473661  1.804142\n",
       "0  RandomForestClassifier         0.508642  0.505112  5.042689\n",
       "0         RidgeClassifier         0.527784  0.526643  0.735677"
      ]
     },
     "execution_count": 71,
     "metadata": {},
     "output_type": "execute_result"
    }
   ],
   "source": [
    "results_res = pd.DataFrame(columns = ['name','cross_val_score','hold_out','time'])\n",
    "f1_list = []\n",
    "for classifier in classifiers:\n",
    "    results_res = results_res.append(evaluate_score(classifier,X_res,y_res))\n",
    "    classifier.fit(X_res,y_res)\n",
    "    pred = classifier.predict(X_test)\n",
    "    f1 = f1_score(y_test,classifier.predict(X_test),average=\"macro\")\n",
    "    f1_list.append(f1)\n",
    "results_res['hold_out'] = f1_list\n",
    "results_res.sort_values(by='cross_val_score')"
   ]
  },
  {
   "cell_type": "code",
   "execution_count": 72,
   "metadata": {},
   "outputs": [
    {
     "name": "stderr",
     "output_type": "stream",
     "text": [
      "100%|██████████| 9/9 [00:29<00:00,  3.26s/it]\n"
     ]
    },
    {
     "data": {
      "text/plain": [
       "(0.5282587089635072,\n",
       " 0.9000000000000001,\n",
       " 0.9999999999999999,\n",
       " 0.7999999999999999)"
      ]
     },
     "execution_count": 72,
     "metadata": {},
     "output_type": "execute_result"
    }
   ],
   "source": [
    "f,w1,w2,w3 = search_class_weight('ridge',X_res,y_res,\n",
    "                                 X_test,y_test,np.arange(0.2,1.1,0.1),\n",
    "                                 np.arange(0.5,1.2,0.1),np.arange(0.5,1.2,0.1))\n",
    "f,w1,w2,w3"
   ]
  },
  {
   "cell_type": "markdown",
   "metadata": {},
   "source": [
    "### 3.5 BalancedRandomForestClassifier\n",
    "Almost the same as original randomforest but it has special possibility for undersampling."
   ]
  },
  {
   "cell_type": "markdown",
   "metadata": {},
   "source": [
    "Optimal BalancedRandomForestClassifier hyperparameters."
   ]
  },
  {
   "cell_type": "code",
   "execution_count": 73,
   "metadata": {},
   "outputs": [],
   "source": [
    "tree_params = {\n",
    "    'sampling_strategy':['all'],\n",
    "    'criterion':['entropy'],\n",
    "    'max_depth':[None],\n",
    "    'min_samples_split':[2],\n",
    "    'min_samples_leaf':[2],\n",
    "    'min_weight_fraction_leaf':[0],\n",
    "    'max_features':[\"auto\"],\n",
    "    'max_leaf_nodes':[None],\n",
    "    'min_impurity_decrease':[0],\n",
    "    'bootstrap':[False],\n",
    "    'replacement':[True],\n",
    "    'ccp_alpha':[0]\n",
    "}"
   ]
  },
  {
   "cell_type": "code",
   "execution_count": 225,
   "metadata": {},
   "outputs": [
    {
     "name": "stderr",
     "output_type": "stream",
     "text": [
      "100%|██████████| 10/10 [32:14<00:00, 193.44s/it]\n"
     ]
    }
   ],
   "source": [
    "f1_max = 0\n",
    "for i in tqdm(np.arange(0.8,1.8,0.1)):\n",
    "    for j in np.arange(0.8,1.5,0.1):\n",
    "        forest = BalancedRandomForestClassifier(n_estimators=500,random_state=4,bootstrap=False,replacement=True,\n",
    "                                        n_jobs=-1,sampling_strategy={0:7000},\n",
    "                                        criterion='entropy',class_weight={0:1,1:i,2:j})\n",
    "        forest.fit(X_train,y_train)\n",
    "        pred = forest.predict(X_test)\n",
    "        f1 = f1_score(y_test,forest.predict(X_test),average=\"macro\")\n",
    "        if f1 > f1_max:\n",
    "            f1_max = f1\n",
    "            weight_1_f1 = i\n",
    "            weight_2_f1 = j"
   ]
  },
  {
   "cell_type": "code",
   "execution_count": 75,
   "metadata": {},
   "outputs": [
    {
     "data": {
      "text/plain": [
       "(0.5306333763839487, 1.6999999999999997, 0.9)"
      ]
     },
     "execution_count": 75,
     "metadata": {},
     "output_type": "execute_result"
    }
   ],
   "source": [
    "f1_max,weight_1_f1,weight_2_f1"
   ]
  },
  {
   "cell_type": "markdown",
   "metadata": {},
   "source": [
    "Confusion_matrix shows where model faults."
   ]
  },
  {
   "cell_type": "code",
   "execution_count": 94,
   "metadata": {},
   "outputs": [
    {
     "data": {
      "text/plain": [
       "array([[3344,   13,  118],\n",
       "       [1028,   19,   83],\n",
       "       [ 159,    4,  137]])"
      ]
     },
     "execution_count": 94,
     "metadata": {},
     "output_type": "execute_result"
    }
   ],
   "source": [
    "confusion_matrix(y_test,pred)"
   ]
  },
  {
   "cell_type": "markdown",
   "metadata": {},
   "source": [
    "### 3.6 Catboost"
   ]
  },
  {
   "cell_type": "code",
   "execution_count": 221,
   "metadata": {},
   "outputs": [],
   "source": [
    "model = catboost.CatBoostClassifier(\n",
    "    eval_metric='TotalF1:average=Macro',\n",
    "    loss_function='MultiClass',\n",
    "    iterations=1000,\n",
    "    random_seed=4,\n",
    "    auto_class_weights='Balanced',\n",
    "    learning_rate=0.02, \n",
    "    max_depth = 9, grow_policy='SymmetricTree',\n",
    "    silent=True,\n",
    "    l2_leaf_reg = 0.01,\n",
    "    model_shrink_rate=0.005,\n",
    "    border_count = 5\n",
    ")"
   ]
  },
  {
   "cell_type": "markdown",
   "metadata": {},
   "source": [
    "F1 score on dataset without preprocessing."
   ]
  },
  {
   "cell_type": "code",
   "execution_count": 222,
   "metadata": {},
   "outputs": [
    {
     "data": {
      "text/plain": [
       "<catboost.core.CatBoostClassifier at 0x12bcc0bb0>"
      ]
     },
     "execution_count": 222,
     "metadata": {},
     "output_type": "execute_result"
    }
   ],
   "source": [
    "model.fit(X_train,y_train)"
   ]
  },
  {
   "cell_type": "code",
   "execution_count": 223,
   "metadata": {},
   "outputs": [
    {
     "data": {
      "text/plain": [
       "0.5478109440602336"
      ]
     },
     "execution_count": 223,
     "metadata": {},
     "output_type": "execute_result"
    }
   ],
   "source": [
    "pred = model.predict(X_test)\n",
    "f1 = f1_score(y_test,pred,average=\"macro\")\n",
    "f1"
   ]
  },
  {
   "cell_type": "markdown",
   "metadata": {},
   "source": [
    "F1 score on dataset after SMOTE."
   ]
  },
  {
   "cell_type": "code",
   "execution_count": 184,
   "metadata": {},
   "outputs": [
    {
     "data": {
      "text/plain": [
       "<catboost.core.CatBoostClassifier at 0x12c46c4c0>"
      ]
     },
     "execution_count": 184,
     "metadata": {},
     "output_type": "execute_result"
    }
   ],
   "source": [
    "model.fit(X_over,y_over)"
   ]
  },
  {
   "cell_type": "code",
   "execution_count": 185,
   "metadata": {},
   "outputs": [
    {
     "data": {
      "text/plain": [
       "0.47824269615507936"
      ]
     },
     "execution_count": 185,
     "metadata": {},
     "output_type": "execute_result"
    }
   ],
   "source": [
    "pred = model.predict(X_test)\n",
    "f1 = f1_score(y_test,pred,average=\"macro\")\n",
    "f1"
   ]
  },
  {
   "cell_type": "markdown",
   "metadata": {},
   "source": [
    "F1 score on dataset after NearMiss."
   ]
  },
  {
   "cell_type": "code",
   "execution_count": 186,
   "metadata": {},
   "outputs": [
    {
     "data": {
      "text/plain": [
       "<catboost.core.CatBoostClassifier at 0x12c46c4c0>"
      ]
     },
     "execution_count": 186,
     "metadata": {},
     "output_type": "execute_result"
    }
   ],
   "source": [
    "model.fit(X_under,y_under)"
   ]
  },
  {
   "cell_type": "code",
   "execution_count": 187,
   "metadata": {},
   "outputs": [
    {
     "data": {
      "text/plain": [
       "0.20731828101983615"
      ]
     },
     "execution_count": 187,
     "metadata": {},
     "output_type": "execute_result"
    }
   ],
   "source": [
    "pred = model.predict(X_test)\n",
    "f1 = f1_score(y_test,pred,average=\"macro\")\n",
    "f1"
   ]
  },
  {
   "cell_type": "markdown",
   "metadata": {},
   "source": [
    "F1 score on dataset after random undersampling."
   ]
  },
  {
   "cell_type": "code",
   "execution_count": 188,
   "metadata": {},
   "outputs": [
    {
     "data": {
      "text/plain": [
       "<catboost.core.CatBoostClassifier at 0x12c46c4c0>"
      ]
     },
     "execution_count": 188,
     "metadata": {},
     "output_type": "execute_result"
    }
   ],
   "source": [
    "model.fit(X_res,y_res)"
   ]
  },
  {
   "cell_type": "code",
   "execution_count": 189,
   "metadata": {},
   "outputs": [
    {
     "data": {
      "text/plain": [
       "0.525634370633392"
      ]
     },
     "execution_count": 189,
     "metadata": {},
     "output_type": "execute_result"
    }
   ],
   "source": [
    "pred = model.predict(X_test)\n",
    "f1 = f1_score(y_test,pred,average=\"macro\")\n",
    "f1"
   ]
  },
  {
   "cell_type": "markdown",
   "metadata": {},
   "source": [
    "## 4. Conclusion"
   ]
  },
  {
   "cell_type": "markdown",
   "metadata": {},
   "source": [
    "Megafon is huge telecom operator. This task probably is connected with problem of churn clients. On the one hand here much varying columns and data to work with. On the other hand it is hard to find right way of solving problem and hard to do proper feature engineering, preprocessing data because the data is sealed.  \n",
    "Good results shows ridge classifier with class_weight tuning. Also random forest from imblearn module gives a good shot. Initial undersampling possibility gives fine impact on results. Unfortunately, complex machine learning models like catboost or xgboost demonstates best results without any preprocessing. Catboost f1 macro score is 0.548."
   ]
  }
 ],
 "metadata": {
  "kernelspec": {
   "display_name": "Python 3",
   "language": "python",
   "name": "python3"
  },
  "language_info": {
   "codemirror_mode": {
    "name": "ipython",
    "version": 3
   },
   "file_extension": ".py",
   "mimetype": "text/x-python",
   "name": "python",
   "nbconvert_exporter": "python",
   "pygments_lexer": "ipython3",
   "version": "3.8.2"
  }
 },
 "nbformat": 4,
 "nbformat_minor": 4
}
